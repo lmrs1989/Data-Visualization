{
 "cells": [
  {
   "cell_type": "markdown",
   "metadata": {},
   "source": [
    "# Pymaceuticals Inc.\n",
    "---\n",
    "\n",
    "### Analysis\n",
    "\n",
    "- Add your analysis here.\n",
    " "
   ]
  },
  {
   "cell_type": "code",
   "execution_count": null,
   "metadata": {},
   "outputs": [],
   "source": [
    "# Dependencies and Setup\n",
    "import matplotlib.pyplot as plt\n",
    "import pandas as pd \n",
    "from scipy.stats import linregress\n",
    "import numpy as np\n",
    "import os\n",
    "\n",
    "# Study data files\n",
    "mouse_metadata_path = os.path.join('data', 'mouse_metadata.csv')\n",
    "study_results_path = os.path.join('data', 'study_results.csv')\n",
    "\n",
    "# Read the mouse data and the study results\n",
    "mouse_metadata = pd.read_csv(mouse_metadata_path)\n",
    "study_results = pd.read_csv(study_results_path)\n",
    "\n",
    "# Combine the data into a single DataFrame\n",
    "merged_data = pd.merge(mouse_metadata, study_results, on=\"Mouse ID\")\n",
    "\n",
    "# Display the data table for preview\n",
    "merged_data.head()\n",
    "\n"
   ]
  },
  {
   "cell_type": "code",
   "execution_count": null,
   "metadata": {},
   "outputs": [],
   "source": [
    "# Checking the number of mice.\n",
    "unique_mice_count = merged_data[\"Mouse ID\"].nunique() \n",
    "print(f\"Number of unique mice IDs: {unique_mice_count}\")"
   ]
  },
  {
   "cell_type": "code",
   "execution_count": null,
   "metadata": {},
   "outputs": [],
   "source": [
    "# Our data should be uniquely identified by Mouse ID and Timepoint\n",
    "# Get the duplicate mice by ID number that shows up for Mouse ID and Timepoint.\n",
    "duplicate_timepoints = merged_data[merged_data.duplicated(subset=[\"Mouse ID\", \"Timepoint\"], keep=False)] \n",
    "print(f\"Duplicate time points:\\n{duplicate_timepoints}\")"
   ]
  },
  {
   "cell_type": "code",
   "execution_count": 67,
   "metadata": {},
   "outputs": [],
   "source": [
    "# Optional: Get all the data for the duplicate mouse ID.\n"
   ]
  },
  {
   "cell_type": "code",
   "execution_count": 3,
   "metadata": {},
   "outputs": [],
   "source": [
    "# Create a clean DataFrame by dropping the duplicate mouse by its ID.\n",
    "cleaned_data = merged_data.drop_duplicates(subset=[\"Mouse ID\", \"Timepoint\"])"
   ]
  },
  {
   "cell_type": "code",
   "execution_count": null,
   "metadata": {},
   "outputs": [],
   "source": [
    "# Checking the number of mice in the clean DataFrame.\n",
    "updated_unique_mice = cleaned_data[\"Mouse ID\"].nunique() \n",
    "print(f\"Updated number of unique mice IDs: {updated_unique_mice}\")\n",
    "cleaned_data.head()"
   ]
  },
  {
   "cell_type": "markdown",
   "metadata": {},
   "source": []
  },
  {
   "cell_type": "markdown",
   "metadata": {},
   "source": [
    "## Summary Statistics"
   ]
  },
  {
   "cell_type": "code",
   "execution_count": null,
   "metadata": {},
   "outputs": [],
   "source": [
    "# Generate a summary statistics table of mean, median, variance, standard deviation, and SEM of the tumor volume for each regimen\n",
    "\n",
    "# Use groupby and summary statistical methods to calculate the following properties of each drug regimen:\n",
    "# mean, median, variance, standard deviation, and SEM of the tumor volume.\n",
    "# Assemble the resulting series into a single summary DataFrame.\n",
    "summary_stats = cleaned_data.groupby('Drug Regimen').agg({ 'Tumor Volume (mm3)': ['mean', 'median', 'var', 'std', 'sem'] })\n",
    "summary_stats.columns = ['Mean', 'Median', 'Variance', 'Standard Deviation', 'SEM']\n",
    "print(summary_stats)"
   ]
  },
  {
   "cell_type": "code",
   "execution_count": null,
   "metadata": {},
   "outputs": [],
   "source": [
    "# A more advanced method to generate a summary statistics table of mean, median, variance, standard deviation,\n",
    "# and SEM of the tumor volume for each regimen (only one method is required in the solution)\n",
    "# Using the aggregation method, produce the same summary statistics in a single line\n",
    "summary_stats_advanced = cleaned_data.groupby('Drug Regimen').agg( Mean=('Tumor Volume (mm3)', 'mean'), Median=('Tumor Volume (mm3)', 'median'), Variance=('Tumor Volume (mm3)', 'var'), Standard_Deviation=('Tumor Volume (mm3)', 'std'), SEM=('Tumor Volume (mm3)', 'sem') )\n",
    "print(summary_stats_advanced)\n",
    "\n",
    "drug_regimen_groups = cleaned_data.groupby('Drug Regimen')['Tumor Volume (mm3)'] \n",
    "group1 = drug_regimen_groups.get_group('Capomulin') \n",
    "group2 = drug_regimen_groups.get_group('Infubinol')\n",
    "\n",
    "\n",
    "\n"
   ]
  },
  {
   "cell_type": "markdown",
   "metadata": {},
   "source": [
    "## Bar and Pie Charts"
   ]
  },
  {
   "cell_type": "code",
   "execution_count": null,
   "metadata": {},
   "outputs": [],
   "source": [
    "# Generate a bar plot showing the total number of rows (Mouse ID/Timepoints) for each drug regimen using Pandas.\n",
    "timepoint_counts = cleaned_data['Drug Regimen'].value_counts()\n",
    "timepoint_counts.plot(kind='bar', figsize=(10, 6), color='#D3A5D3')\n",
    "plt.xlabel('Drug Regimen') \n",
    "plt.ylabel('Number of Observed Mouse Timepoints') \n",
    "plt.show()\n"
   ]
  },
  {
   "cell_type": "code",
   "execution_count": null,
   "metadata": {},
   "outputs": [],
   "source": [
    "# Generate a bar plot showing the total number of rows (Mouse ID/Timepoints) for each drug regimen using pyplot.\n",
    "# Import the necessary library\n",
    "import matplotlib.pyplot as plt\n",
    "\n",
    "# Calculate the total number of rows (Mouse ID/Timepoints) for each drug regimen\n",
    "timepoint_counts = cleaned_data['Drug Regimen'].value_counts()\n",
    "\n",
    "# Create the bar plot using pyplot\n",
    "plt.figure(figsize=(10, 6))\n",
    "plt.bar(timepoint_counts.index, timepoint_counts.values, color='violet')  # Using light purple color\n",
    "\n",
    "# Add labels and title\n",
    "plt.xlabel('Drug Regimen')\n",
    "plt.ylabel('Number of Rows (Mouse ID/Timepoints)')\n",
    "plt.title('Total Number of Rows for Each Drug Regimen')\n",
    "\n",
    "# Display the plot\n",
    "plt.show()\n"
   ]
  },
  {
   "cell_type": "code",
   "execution_count": null,
   "metadata": {},
   "outputs": [],
   "source": [
    "# Generate a pie chart, using Pandas, showing the distribution of unique female versus male mice used in the study\n",
    "import matplotlib.pyplot as plt \n",
    "import pandas as pd\n",
    "# Get the unique mice with their gender\n",
    "unique_mice = mouse_metadata[['Mouse ID', 'Sex']].drop_duplicates()\n",
    "gender_distribution = unique_mice['Sex'].value_counts()\n",
    "# Make the pie chart\n",
    "plt.figure(figsize=(8, 8)) \n",
    "gender_distribution.plot(kind='pie', autopct='%1.1f%%', startangle=90, colors=['brown', 'maroon']) \n",
    "plt.title('count') \n",
    "plt.ylabel('') # Hide the y-label for a cleaner look plt.show()\n",
    "plt.show"
   ]
  },
  {
   "cell_type": "code",
   "execution_count": null,
   "metadata": {},
   "outputs": [],
   "source": [
    "# Generate a pie chart, using pyplot, showing the distribution of unique female versus male mice used in the study\n",
    "import matplotlib.pyplot as plt \n",
    "import pandas as pd\n",
    "\n",
    "mouse_metadata_path = os.path.join('data', 'mouse_metadata.csv')\n",
    "mouse_metadata = pd.read_csv(mouse_metadata_path)\n",
    "\n",
    "# Get the unique mice with their gender\n",
    "unique_mice = mouse_metadata[['Mouse ID', 'Sex']].drop_duplicates()\n",
    "gender_distribution = unique_mice['Sex'].value_counts()\n",
    "# Make the pie chart\n",
    "plt.figure(figsize=(8, 8)) \n",
    "plt.pie(gender_distribution, labels=gender_distribution.index, autopct='%1.1f%%', startangle=90, colors=['green', 'yellow']) \n",
    "plt.title('Distribution of Unique Female vs Male Mice Used in the Study') \n",
    "plt.show()"
   ]
  },
  {
   "cell_type": "markdown",
   "metadata": {},
   "source": [
    "## Quartiles, Outliers and Boxplots"
   ]
  },
  {
   "cell_type": "code",
   "execution_count": 11,
   "metadata": {},
   "outputs": [],
   "source": [
    "# Calculate the final tumor volume of each mouse across four of the treatment regimens:\n",
    "import pandas as pd\n",
    "\n",
    "mouse_metadata_path = os.path.join('data','mouse_metadata.csv')\n",
    "study_results_path = os.path.join('data','study_results.csv')\n",
    "\n",
    "mouse_metadata = pd.read_csv(mouse_metadata_path) \n",
    "study_results = pd.read_csv(study_results_path)\n",
    "\n",
    "merged_data = pd.merge(mouse_metadata, study_results, on=\"Mouse ID\")\n",
    "\n",
    "# Capomulin, Ramicane, Infubinol, and Ceftamin\n",
    "treatment_regimens = ['Capomulin', 'Ramicane', 'Infubinol', 'Ceftamin'] \n",
    "filtered_data = merged_data[merged_data['Drug Regimen'].isin(treatment_regimens)]\n",
    "\n",
    "# Start by getting the last (greatest) timepoint for each mouse\n",
    "last_timepoint = filtered_data.groupby('Mouse ID')['Timepoint'].max().reset_index()\n",
    "\n",
    "# Merge this group df with the original DataFrame to get the tumor volume at the last timepoint\n",
    "merged_last_timepoint = pd.merge(last_timepoint, filtered_data, on=['Mouse ID', 'Timepoint'], how='left')"
   ]
  },
  {
   "cell_type": "code",
   "execution_count": null,
   "metadata": {},
   "outputs": [],
   "source": [
    "# Put treatments into a list for for loop (and later for plot labels)\n",
    "treatments = ['Capomulin', 'Ramicane', 'Infubinol', 'Ceftamin']\n",
    "\n",
    "# Create empty list to fill with tumor vol data (for plotting)\n",
    "tumor_vol_data = []\n",
    "\n",
    "# Calculate the IQR and quantitatively determine if there are any potential outliers.\n",
    "for treatment in treatments:\n",
    "\n",
    "    # Locate the rows which contain mice on each drug and get the tumor volumes\n",
    " tumor_volumes = merged_last_timepoint[merged_last_timepoint['Drug Regimen'] == treatment]['Tumor Volume (mm3)']\n",
    "\n",
    "    # add subset\n",
    "tumor_vol_data.append(tumor_volumes)\n",
    "quartiles = tumor_volumes.quantile([.25, .5, .75]) \n",
    "lowerq = quartiles[0.25] \n",
    "upperq = quartiles[0.75] \n",
    "iqr = upperq - lowerq\n",
    "\n",
    "    # Determine outliers using upper and lower bounds\n",
    "lower_bound = lowerq - (1.5 * iqr) \n",
    "upper_bound = upperq + (1.5 * iqr) \n",
    "outliers = tumor_volumes[(tumor_volumes < lower_bound) | (tumor_volumes > upper_bound)]\n",
    "\n",
    "print(f\"{treatment} treatment potential outliers: {outliers}\")\n",
    "\n",
    "for treatment, data in zip(treatments, tumor_vol_data): \n",
    "   print(f\"Tumor volumes for {treatment}:\\n{data}\\n\")\n"
   ]
  },
  {
   "cell_type": "code",
   "execution_count": null,
   "metadata": {},
   "outputs": [],
   "source": [
    "# Generate a box plot that shows the distribution of the tumor volume for each treatment group.\n",
    "\n",
    "import matplotlib.pyplot as plt\n",
    "\n",
    "treatments = ['Capomulin', 'Ramicane', 'Infubinol', 'Ceftamin']\n",
    "\n",
    "tumor_vol_data = []\n",
    "\n",
    "for treatment in treatments:\n",
    "    tumor_volumes = merged_last_timepoint[merged_last_timepoint['Drug Regimen'] == treatment]['Tumor Volume (mm3)']\n",
    "    tumor_vol_data.append(tumor_volumes)\n",
    "\n",
    "plt.figure(figsize=(10, 6))\n",
    "plt.boxplot(tumor_vol_data, labels=treatments)\n",
    "\n",
    "plt.title('Distribution of Tumor Volume for Each Treatment Group')\n",
    "plt.xlabel('Drug Regimen')\n",
    "plt.ylabel('Tumor Volume (mm3)')\n",
    "\n",
    "plt.show()\n"
   ]
  },
  {
   "cell_type": "markdown",
   "metadata": {},
   "source": [
    "## Line and Scatter Plots"
   ]
  },
  {
   "cell_type": "code",
   "execution_count": null,
   "metadata": {},
   "outputs": [],
   "source": [
    "# Generate a line plot of tumor volume vs. time point for a single mouse treated with Capomulin\n",
    "# Import the necessary libraries\n",
    "import pandas as pd\n",
    "import matplotlib.pyplot as plt\n",
    "\n",
    "# Load Data Files\n",
    "mouse_metadata_path = os.path.join('data', 'mouse_metadata.csv')\n",
    "\n",
    "study_results_path = os.path.join('data', 'study_results.csv')\n",
    "\n",
    "mouse_metadata = pd.read_csv(mouse_metadata_path) \n",
    "study_results = pd.read_csv(study_results_path)\n",
    "\n",
    "merged_data = pd.merge(mouse_metadata, study_results, on=\"Mouse ID\")\n",
    "\n",
    "# Filter for a single mouse treated with Capomulin\n",
    "capomulin_data = merged_data[merged_data['Drug Regimen'] == 'Capomulin']\n",
    "\n",
    "# Select a specific mouse ID (e.g., 'b742')\n",
    "mouse_id = 'b742'\n",
    "\n",
    "# Filter for the specific mouse\n",
    "mouse_data = capomulin_data[capomulin_data['Mouse ID'] == mouse_id]\n",
    "\n",
    "# Extract the tumor volume and time point data\n",
    "timepoints = mouse_data['Timepoint']\n",
    "tumor_volumes = mouse_data['Tumor Volume (mm3)']\n",
    "\n",
    "# Generate the line plot\n",
    "plt.figure(figsize=(10, 6))\n",
    "plt.plot(timepoints, tumor_volumes, marker='o', linestyle='-', color='b')\n",
    "\n",
    "# Add title and labels\n",
    "plt.title(f'Tumor Volume vs. Time Point for Mouse {mouse_id} Treated with Capomulin')\n",
    "plt.xlabel('Time Point (days)')\n",
    "plt.ylabel('Tumor Volume (mm3)')\n",
    "\n",
    "# Display the plot\n",
    "plt.show()\n"
   ]
  },
  {
   "cell_type": "code",
   "execution_count": null,
   "metadata": {},
   "outputs": [],
   "source": [
    "# Generate a scatter plot of mouse weight vs. the average observed tumor volume for the entire Capomulin regimen\n",
    "\n",
    "import pandas as pd\n",
    "import matplotlib.pyplot as plt\n",
    "\n",
    "mouse_metadata_path = os.path.join('data', 'mouse_metadata.csv')\n",
    "study_results_path = os.path.join('data', 'study_results.csv')\n",
    "\n",
    "mouse_metadata = pd.read_csv(mouse_metadata_path) \n",
    "study_results = pd.read_csv(study_results_path)\n",
    "\n",
    "merged_data = pd.merge(mouse_metadata, study_results, on=\"Mouse ID\")\n",
    "\n",
    "capomulin_data = merged_data[merged_data['Drug Regimen'] == 'Capomulin']\n",
    "\n",
    "average_tumor_volume = capomulin_data.groupby('Mouse ID')['Tumor Volume (mm3)'].mean().reset_index()\n",
    "\n",
    "mouse_weight_volume = pd.merge(average_tumor_volume, mouse_metadata[['Mouse ID', 'Weight (g)']], on='Mouse ID')\n",
    "\n",
    "mouse_weight = mouse_weight_volume['Weight (g)']\n",
    "avg_tumor_volume = mouse_weight_volume['Tumor Volume (mm3)']\n",
    "\n",
    "plt.figure(figsize=(10, 6))\n",
    "plt.scatter(mouse_weight, avg_tumor_volume, color='blue')\n",
    "\n",
    "plt.title('Mouse Weight vs. Average Observed Tumor Volume for Capomulin Regimen')\n",
    "plt.xlabel('Weight (g)')\n",
    "plt.ylabel('Average Tumor Volume (mm3)')  # Add grid lines for better visualization\n",
    "plt.show()\n",
    "\n"
   ]
  },
  {
   "cell_type": "markdown",
   "metadata": {},
   "source": [
    "## Correlation and Regression"
   ]
  },
  {
   "cell_type": "code",
   "execution_count": null,
   "metadata": {},
   "outputs": [],
   "source": [
    "# Calculate the correlation coefficient and a linear regression model\n",
    "# for mouse weight and average observed tumor volume for the entire Capomulin regimen\n",
    "import pandas as pd\n",
    "import matplotlib.pyplot as plt\n",
    "from scipy.stats import linregress\n",
    "import numpy as np\n",
    "\n",
    "mouse_metadata_path = os.path.join('data', 'mouse_metadata.csv')\n",
    "study_results_path = os.path.join('data', 'study_results.csv')\n",
    "\n",
    "mouse_metadata = pd.read_csv(mouse_metadata_path) \n",
    "study_results = pd.read_csv(study_results_path)\n",
    "\n",
    "merged_data = pd.merge(mouse_metadata, study_results, on=\"Mouse ID\")\n",
    "\n",
    "capomulin_data = merged_data[merged_data['Drug Regimen'] == 'Capomulin']\n",
    "\n",
    "average_tumor_volume = capomulin_data.groupby('Mouse ID')['Tumor Volume (mm3)'].mean().reset_index()\n",
    "\n",
    "mouse_weight_volume = pd.merge(average_tumor_volume, mouse_metadata[['Mouse ID', 'Weight (g)']], on='Mouse ID')\n",
    "\n",
    "mouse_weight = mouse_weight_volume['Weight (g)']\n",
    "avg_tumor_volume = mouse_weight_volume['Tumor Volume (mm3)']\n",
    "\n",
    "correlation = np.corrcoef(mouse_weight, avg_tumor_volume)[0, 1]\n",
    "print(f'Correlation coefficient: {correlation}')\n",
    "\n",
    "slope, intercept, r_value, p_value, std_err = linregress(mouse_weight, avg_tumor_volume)\n",
    "\n",
    "plt.figure(figsize=(10, 6))\n",
    "plt.scatter(mouse_weight, avg_tumor_volume, color='blue', label='Data Points')\n",
    "plt.plot(mouse_weight, intercept + slope * mouse_weight, 'r', label='Fitted Line')\n",
    "\n",
    "\n",
    "plt.xlabel('Weight (g)')\n",
    "plt.ylabel('Average Tumor Volume(mm3)')"
   ]
  },
  {
   "cell_type": "code",
   "execution_count": null,
   "metadata": {},
   "outputs": [],
   "source": []
  }
 ],
 "metadata": {
  "anaconda-cloud": {},
  "kernelspec": {
   "display_name": "PythonData",
   "language": "python",
   "name": "python3"
  },
  "language_info": {
   "codemirror_mode": {
    "name": "ipython",
    "version": 3
   },
   "file_extension": ".py",
   "mimetype": "text/x-python",
   "name": "python",
   "nbconvert_exporter": "python",
   "pygments_lexer": "ipython3",
   "version": "3.10.16"
  }
 },
 "nbformat": 4,
 "nbformat_minor": 4
}
